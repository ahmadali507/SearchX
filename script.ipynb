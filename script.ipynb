{
 "cells": [
  {
   "cell_type": "code",
   "execution_count": 1,
   "metadata": {},
   "outputs": [],
   "source": [
    "import pandas as pd \n",
    "original_csv = pd.read_csv('repositories.csv')"
   ]
  },
  {
   "cell_type": "code",
   "execution_count": 2,
   "metadata": {},
   "outputs": [],
   "source": [
    "rows_to_write = original_csv.head(300)\n",
    "test_csv = \"test.csv\"\n",
    "rows_to_write.to_csv(test_csv, index=False)\n"
   ]
  },
  {
   "cell_type": "code",
   "execution_count": 3,
   "metadata": {},
   "outputs": [
    {
     "name": "stdout",
     "output_type": "stream",
     "text": [
      "300\n"
     ]
    }
   ],
   "source": [
    "\n",
    "test = pd.read_csv(test_csv)\n",
    "print(test.shape[0])"
   ]
  },
  {
   "cell_type": "code",
   "execution_count": 4,
   "metadata": {},
   "outputs": [
    {
     "name": "stdout",
     "output_type": "stream",
     "text": [
      "              index  0\n",
      "0              Name  0\n",
      "1       Description  0\n",
      "2               URL  0\n",
      "3        Created At  0\n",
      "4        Updated At  0\n",
      "5              Size  0\n",
      "6             Stars  0\n",
      "7             Forks  0\n",
      "8            Issues  0\n",
      "9          Watchers  0\n",
      "10         Language  0\n",
      "11           Topics  0\n",
      "12       Has Issues  0\n",
      "13     Has Projects  0\n",
      "14    Has Downloads  0\n",
      "15         Has Wiki  0\n",
      "16        Has Pages  0\n",
      "17  Has Discussions  0\n",
      "18          Is Fork  0\n",
      "19      Is Archived  0\n",
      "20      Is Template  0\n",
      "21   Default Branch  0\n"
     ]
    }
   ],
   "source": [
    "print(test.isnull().sum().reset_index())"
   ]
  }
 ],
 "metadata": {
  "kernelspec": {
   "display_name": "Python 3",
   "language": "python",
   "name": "python3"
  },
  "language_info": {
   "codemirror_mode": {
    "name": "ipython",
    "version": 3
   },
   "file_extension": ".py",
   "mimetype": "text/x-python",
   "name": "python",
   "nbconvert_exporter": "python",
   "pygments_lexer": "ipython3",
   "version": "3.12.3"
  }
 },
 "nbformat": 4,
 "nbformat_minor": 2
}
