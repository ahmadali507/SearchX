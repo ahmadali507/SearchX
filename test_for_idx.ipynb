{
 "cells": [
  {
   "cell_type": "code",
   "execution_count": 1,
   "metadata": {},
   "outputs": [
    {
     "name": "stderr",
     "output_type": "stream",
     "text": [
      "[nltk_data] Downloading package stopwords to C:\\Users\\Track\n",
      "[nltk_data]     Computers\\AppData\\Roaming\\nltk_data...\n",
      "[nltk_data]   Package stopwords is already up-to-date!\n",
      "[nltk_data] Downloading package punkt to C:\\Users\\Track\n",
      "[nltk_data]     Computers\\AppData\\Roaming\\nltk_data...\n",
      "[nltk_data]   Package punkt is already up-to-date!\n",
      "[nltk_data] Downloading package punkt_tab to C:\\Users\\Track\n",
      "[nltk_data]     Computers\\AppData\\Roaming\\nltk_data...\n",
      "[nltk_data]   Package punkt_tab is already up-to-date!\n"
     ]
    }
   ],
   "source": [
    "import pandas as pd \n",
    "import nltk \n",
    "from nltk.corpus import stopwords\n",
    "from nltk.tokenize import word_tokenize\n",
    "\n",
    "import string\n",
    "\n",
    "nltk.download('stopwords')\n",
    "nltk.download('punkt')\n",
    "nltk.download('punkt_tab')\n",
    "test_csv = pd.read_csv('repositories.csv')\n",
    "\n",
    "\n",
    "\n",
    "# "
   ]
  },
  {
   "cell_type": "code",
   "execution_count": 2,
   "metadata": {},
   "outputs": [
    {
     "name": "stdout",
     "output_type": "stream",
     "text": [
      "Index(['Name', 'Description', 'URL', 'Created At', 'Updated At', 'Size',\n",
      "       'Stars', 'Forks', 'Issues', 'Watchers', 'Language', 'Topics',\n",
      "       'Has Issues', 'Has Projects', 'Has Downloads', 'Has Wiki', 'Has Pages',\n",
      "       'Has Discussions', 'Is Fork', 'Is Archived', 'Is Template',\n",
      "       'Default Branch'],\n",
      "      dtype='object')\n"
     ]
    }
   ],
   "source": [
    "print(test_csv.columns)"
   ]
  },
  {
   "cell_type": "code",
   "execution_count": 8,
   "metadata": {},
   "outputs": [
    {
     "name": "stdout",
     "output_type": "stream",
     "text": [
      "Index(['Name', 'Description', 'URL', 'Size', 'Stars', 'Forks', 'Issues',\n",
      "       'Watchers', 'Language', 'Topics'],\n",
      "      dtype='object')\n"
     ]
    }
   ],
   "source": [
    "test_csv = test_csv.drop([\n",
    "    'Created At', 'Updated At', 'Has Issues', 'Has Projects', 'Has Downloads', \n",
    "    'Has Wiki', 'Has Pages', 'Has Discussions', 'Is Fork', 'Is Archived', \n",
    "    'Is Template', 'Default Branch'\n",
    "], axis=1, errors='ignore')\n",
    "\n",
    "print(test_csv.columns)"
   ]
  },
  {
   "cell_type": "code",
   "execution_count": 9,
   "metadata": {},
   "outputs": [],
   "source": [
    "test_csv.to_csv(\"repositories.csv\", index = False)"
   ]
  },
  {
   "cell_type": "code",
   "execution_count": 17,
   "metadata": {},
   "outputs": [
    {
     "name": "stdout",
     "output_type": "stream",
     "text": [
      "Index(['Name', 'Description', 'URL', 'Size', 'Stars', 'Forks', 'Issues',\n",
      "       'Watchers', 'Language', 'Topics'],\n",
      "      dtype='object')\n",
      "Number of rows removed: 29826\n"
     ]
    }
   ],
   "source": [
    "def contains_non_ascii(text):\n",
    "    return not text.isascii()\n",
    "\n",
    "# Select the columns you want to check\n",
    "columns_to_check = ['Name', 'Description', 'URL', 'Size', 'Language', 'Topics']\n",
    "\n",
    "# Apply the contains_non_ascii function to each row in the selected columns\n",
    "# Combine the columns into a single string per row, and filter out rows with non-ASCII characters\n",
    "test_csv_cleaned = test_csv[~test_csv[columns_to_check].apply(lambda row: any(contains_non_ascii(str(value)) for value in row), axis=1)]\n",
    "\n",
    "# Print the cleaned DataFrame's columns to verify\n",
    "print(test_csv_cleaned.columns)\n",
    "\n",
    "# Save the modified DataFrame back to a CSV file\n",
    "test_csv_cleaned.to_csv('repositories.csv', index=False)\n",
    "\n",
    "# Optionally, print the number of rows removed\n",
    "removed_rows = test_csv.shape[0] - test_csv_cleaned.shape[0]\n",
    "print(f'Number of rows removed: {removed_rows}')"
   ]
  }
 ],
 "metadata": {
  "kernelspec": {
   "display_name": "Python 3",
   "language": "python",
   "name": "python3"
  },
  "language_info": {
   "codemirror_mode": {
    "name": "ipython",
    "version": 3
   },
   "file_extension": ".py",
   "mimetype": "text/x-python",
   "name": "python",
   "nbconvert_exporter": "python",
   "pygments_lexer": "ipython3",
   "version": "3.13.0"
  }
 },
 "nbformat": 4,
 "nbformat_minor": 2
}
