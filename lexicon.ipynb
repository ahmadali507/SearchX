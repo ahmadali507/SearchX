{
 "cells": [
  {
   "cell_type": "code",
   "execution_count": 11,
   "metadata": {},
   "outputs": [
    {
     "name": "stderr",
     "output_type": "stream",
     "text": [
      "[nltk_data] Downloading package punkt to C:\\Users\\Track\n",
      "[nltk_data]     Computers\\AppData\\Roaming\\nltk_data...\n",
      "[nltk_data]   Package punkt is already up-to-date!\n",
      "[nltk_data] Downloading package punkt_tab to C:\\Users\\Track\n",
      "[nltk_data]     Computers\\AppData\\Roaming\\nltk_data...\n",
      "[nltk_data]   Package punkt_tab is already up-to-date!\n",
      "[nltk_data] Downloading package stopwords to C:\\Users\\Track\n",
      "[nltk_data]     Computers\\AppData\\Roaming\\nltk_data...\n",
      "[nltk_data]   Package stopwords is already up-to-date!\n",
      "[nltk_data] Downloading package omw-1.4 to C:\\Users\\Track\n",
      "[nltk_data]     Computers\\AppData\\Roaming\\nltk_data...\n",
      "[nltk_data]   Package omw-1.4 is already up-to-date!\n"
     ]
    },
    {
     "data": {
      "text/plain": [
       "True"
      ]
     },
     "execution_count": 11,
     "metadata": {},
     "output_type": "execute_result"
    }
   ],
   "source": [
    "import pandas as pd \n",
    "import nltk\n",
    "from nltk.corpus import stopwords\n",
    "from nltk.tokenize import word_tokenize\n",
    "from nltk.stem import WordNetLemmatizer\n",
    "\n",
    "\n",
    "import string \n",
    "\n",
    "nltk.download('punkt')\n",
    "nltk.download('punkt_tab')\n",
    "nltk.download('stopwords')\n",
    "nltk.download('omw-1.4')\n",
    "\n"
   ]
  },
  {
   "cell_type": "code",
   "execution_count": 12,
   "metadata": {},
   "outputs": [
    {
     "name": "stdout",
     "output_type": "stream",
     "text": [
      "                   Name                                        Description  \\\n",
      "0          freeCodeCamp  freeCodeCamp.org's open-source codebase and cu...   \n",
      "1           public-apis                     A collective list of free APIs   \n",
      "2     developer-roadmap  Interactive roadmaps, guides and other educati...   \n",
      "3  system-design-primer  Learn how to design large-scale systems. Prep ...   \n",
      "4                 react     The library for web and native user interfaces   \n",
      "\n",
      "                                                 URL            Created At  \\\n",
      "0       https://github.com/freeCodeCamp/freeCodeCamp  2014-12-24T17:49:19Z   \n",
      "1         https://github.com/public-apis/public-apis  2016-03-20T23:49:42Z   \n",
      "2  https://github.com/kamranahmedse/developer-roa...  2017-03-15T13:45:52Z   \n",
      "3  https://github.com/donnemartin/system-design-p...  2017-02-26T16:15:28Z   \n",
      "4                  https://github.com/facebook/react  2013-05-24T16:15:54Z   \n",
      "\n",
      "             Updated At     Size   Stars  Forks  Issues  Watchers  ...  \\\n",
      "0  2023-09-21T11:32:33Z   387451  374074  33599     248    374074  ...   \n",
      "1  2023-09-21T11:22:06Z     5088  256615  29254     191    256615  ...   \n",
      "2  2023-09-21T11:32:17Z  2267461  251416  34927     643    251416  ...   \n",
      "3  2023-09-21T11:32:17Z    11187  229569  40474     393    229569  ...   \n",
      "4  2023-09-21T11:37:15Z   345964  213299  44842    1497    213299  ...   \n",
      "\n",
      "  Has Issues Has Projects  Has Downloads  Has Wiki  Has Pages  \\\n",
      "0       True         True           True     False       True   \n",
      "1       True        False           True     False      False   \n",
      "2       True        False           True      True       True   \n",
      "3       True         True           True      True      False   \n",
      "4       True         True           True      True       True   \n",
      "\n",
      "   Has Discussions  Is Fork  Is Archived  Is Template  Default Branch  \n",
      "0            False    False        False        False            main  \n",
      "1            False    False        False        False          master  \n",
      "2            False    False        False        False          master  \n",
      "3            False    False        False        False          master  \n",
      "4            False    False        False        False            main  \n",
      "\n",
      "[5 rows x 22 columns]\n"
     ]
    }
   ],
   "source": [
    "#loading the test_data file here.... \n",
    "lemmatizer = WordNetLemmatizer()\n",
    "\n",
    "test_csv = pd.read_csv('test.csv')\n",
    "print(test_csv.head())"
   ]
  },
  {
   "cell_type": "code",
   "execution_count": 13,
   "metadata": {},
   "outputs": [
    {
     "name": "stdout",
     "output_type": "stream",
     "text": [
      "Lexicon saved to 'lexicon.csv'\n"
     ]
    }
   ],
   "source": [
    "def process_text(text):\n",
    "    # remove punctuation \n",
    "    stop_words = set(stopwords.words('english'))\n",
    "    tokens = word_tokenize(text.lower())\n",
    "    processed_token = [\n",
    "        word for word in tokens\n",
    "        if word not in stop_words and word not in string.punctuation\n",
    "    ]\n",
    "    return processed_token\n",
    "\n",
    "lexicon = {}\n",
    "curr_id = 1\n",
    "for index, row in test_csv.iterrows():\n",
    "    combined_text = f\"{row.get('Name', '')} {row.get('Description', '')} {row.get('URL', '')} {row.get('Language', '')} {row.get('Topics', '')}\"\n",
    "    \n",
    "    tokens = process_text(combined_text)\n",
    "    for token in tokens:\n",
    "        lemmatized_token = lemmatizer.lemmatize(token)\n",
    "        if lemmatized_token not in lexicon.values():\n",
    "            lexicon[curr_id] = lemmatized_token\n",
    "            curr_id += 1\n",
    "\n",
    "lexicon_df = pd.DataFrame(list(lexicon.items()), columns=['word_id', 'word'])\n",
    "\n",
    "lexicon_df.to_csv('lexicon.csv', index=False)\n",
    "print(\"Lexicon saved to 'lexicon.csv'\")"
   ]
  }
 ],
 "metadata": {
  "kernelspec": {
   "display_name": "Python 3",
   "language": "python",
   "name": "python3"
  },
  "language_info": {
   "codemirror_mode": {
    "name": "ipython",
    "version": 3
   },
   "file_extension": ".py",
   "mimetype": "text/x-python",
   "name": "python",
   "nbconvert_exporter": "python",
   "pygments_lexer": "ipython3",
   "version": "3.13.0"
  }
 },
 "nbformat": 4,
 "nbformat_minor": 2
}
